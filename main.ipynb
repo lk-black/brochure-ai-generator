{
 "cells": [
  {
   "cell_type": "code",
   "execution_count": 1,
   "id": "c0aea753",
   "metadata": {},
   "outputs": [],
   "source": [
    "import os\n",
    "import json\n",
    "import requests\n",
    "import openai\n",
    "from typing import Any, Dict, List, Optional\n",
    "from dotenv import load_dotenv\n",
    "from IPython.display import Markdown, display, update_display\n",
    "from bs4 import BeautifulSoup"
   ]
  },
  {
   "cell_type": "code",
   "execution_count": 33,
   "id": "6502dc12",
   "metadata": {},
   "outputs": [],
   "source": [
    "load_dotenv()\n",
    "\n",
    "api_key = os.getenv(\"OPENAI_API_KEY\")\n",
    "if not api_key:\n",
    "    raise ValueError(\"Please set the OPENAI_API_KEY environment variable.\")\n",
    "\n",
    "MODEL = 'gpt-4o-mini'\n",
    "\n",
    "headers = {\n",
    " \"User-Agent\": \"Mozilla/5.0 (Windows NT 10.0; Win64; x64) AppleWebKit/537.36 (KHTML, like Gecko) Chrome/117.0.0.0 Safari/537.36\"\n",
    "}"
   ]
  },
  {
   "cell_type": "code",
   "execution_count": 34,
   "id": "a0366ceb",
   "metadata": {},
   "outputs": [],
   "source": [
    "class Website():\n",
    "    \"\"\"A class to represente website object\"\"\"\n",
    "    url: str\n",
    "    title: str\n",
    "    body: str\n",
    "    links: List[str]\n",
    "    text: str\n",
    "    \n",
    "    def __init__(self, url):\n",
    "        self.url = url\n",
    "        response = requests.get(url, headers=headers)\n",
    "        self.body = response.content\n",
    "        soup = BeautifulSoup(self.body, 'html.parser')\n",
    "        self.title = soup.title.string if soup.title else 'No title'\n",
    "        if soup.body:\n",
    "            for irrelevant in soup(['script', 'style', 'img', 'input']):\n",
    "                irrelevant.decompose()\n",
    "            self.text = soup.body.get_text(separator='\\n', strip=True)\n",
    "        else:\n",
    "            self.text = ''\n",
    "        links = [link.get('href') for link in soup.find_all('a')]\n",
    "        self.links = [link for link in links if links]\n",
    "    \n",
    "    def get_contents(self):\n",
    "        return f\"Webpage Title: \\n{self.title}\\n\\\n",
    "            Webpage Contents: \\n{self.text}\\n\\n\" "
   ]
  },
  {
   "cell_type": "code",
   "execution_count": null,
   "id": "6edeeb79",
   "metadata": {},
   "outputs": [
    {
     "data": {
      "text/plain": [
       "['#maincontent',\n",
       " 'https://www.oreilly.com/online-learning/teams.html',\n",
       " 'https://www.oreilly.com/online-learning/government.html',\n",
       " 'https://www.oreilly.com/online-learning/academic.html',\n",
       " 'https://www.oreilly.com/online-learning/individuals.html',\n",
       " 'https://www.oreilly.com/content-marketing-solutions.html',\n",
       " 'https://www.oreilly.com',\n",
       " 'https://www.oreilly.com/online-learning/teams.html',\n",
       " 'https://www.oreilly.com/online-learning/government.html',\n",
       " 'https://www.oreilly.com/online-learning/academic.html',\n",
       " 'https://www.oreilly.com/online-learning/individuals.html',\n",
       " 'https://www.oreilly.com/content-marketing-solutions.html',\n",
       " '/search/skills',\n",
       " 'https://www.oreilly.com/online-learning/features.html',\n",
       " 'https://www.oreilly.com/online-learning/features.html',\n",
       " 'https://www.oreilly.com/online-learning/courses.html',\n",
       " 'https://www.oreilly.com/online-learning/feature-certification.html',\n",
       " 'https://www.oreilly.com/online-learning/intro-interactive-learning.html',\n",
       " 'https://www.oreilly.com/online-learning/live-events.html',\n",
       " 'https://www.oreilly.com/online-learning/feature-answers.html',\n",
       " 'https://www.oreilly.com/online-learning/insights-dashboard.html',\n",
       " 'https://www.oreilly.com/radar/',\n",
       " 'https://www.oreilly.com/online-learning/pricing.html',\n",
       " 'https://www.oreilly.com/member/login/',\n",
       " 'https://www.oreilly.com/online-learning/try-now.html',\n",
       " 'https://www.oreilly.com/member/login/',\n",
       " 'https://www.oreilly.com/search/?query=author%3AJose%20Portilla&extended_publisher_data=true&highlight=true&include_assessments=false&include_case_studies=true&include_courses=true&include_playlists=true&include_collections=true&include_notebooks=true&is_academic_institution_account=false&source=user&formats=video&sort=publication_date&facet_json=true&page=0&include_facets=false&include_scenarios=true&include_sandboxes=true&json_facets=true',\n",
       " 'https://learning.oreilly.com/videos/analyzing-data-using/9781491986844/',\n",
       " 'https://learning.oreilly.com/videos/analyzing-data-using/9781491986844/',\n",
       " 'https://www.linkedin.com/in/jmportilla',\n",
       " 'http://pieriandata.com',\n",
       " 'https://www.linkedin.com/company/oreilly-media',\n",
       " 'https://www.youtube.com/user/OreillyMedia',\n",
       " '/about/',\n",
       " '/work-with-us.html',\n",
       " '/careers/',\n",
       " '/press/',\n",
       " '/press/media-coverage.html',\n",
       " '/partner/signup.csp',\n",
       " '/affiliates/',\n",
       " '/online-learning/rfp.html',\n",
       " '/diversity/',\n",
       " '/content-marketing-solutions.html',\n",
       " '/online-learning/support/',\n",
       " '/about/contact.html',\n",
       " '/emails/newsletters/',\n",
       " '/privacy.html',\n",
       " '/about/oreilly-approach-to-generative-ai.html',\n",
       " 'https://www.oreilly.com/online-learning/anz.html',\n",
       " 'https://www.oreilly.co.jp/index.shtml',\n",
       " 'https://itunes.apple.com/us/app/safari-to-go/id881697395',\n",
       " 'https://play.google.com/store/apps/details?id=com.safariflow.queue',\n",
       " 'https://channelstore.roku.com/details/c9d25fa651f0ad84e484b0dfd4b20172:856a240ad268961983e91ae52c1e1e5c/oreilly',\n",
       " 'https://www.amazon.com/OReilly-Media-Inc/dp/B087YYHL5C/ref=sr_1_2?dchild=1&keywords=oreilly&qid=1604964116&s=mobile-apps&sr=1-2',\n",
       " 'https://www.oreilly.com',\n",
       " 'https://www.oreilly.com/privacy.html?donotsell=show',\n",
       " '/terms/',\n",
       " '/privacy.html',\n",
       " '/about/editorial_independence.html',\n",
       " '/modern-slavery-act-transparency-statement.html']"
      ]
     },
     "execution_count": 14,
     "metadata": {},
     "output_type": "execute_result"
    }
   ],
   "source": [
    "jp = Website('https://www.oreilly.com/pub/au/7412')\n",
    "jp.links"
   ]
  },
  {
   "cell_type": "code",
   "execution_count": 9,
   "id": "302757df",
   "metadata": {},
   "outputs": [],
   "source": [
    "link_system_prompt = \"\"\"\" \n",
    "    You are provide with a list of links found on a webpage.\n",
    "    You are able to decide wich of the links would be most relevant to include in a brochure about company.\n",
    "    such as links to an About page, a Company page, or Carrers/Jobs page.\\n\n",
    "    You should respond in JSON as in this example:\\n\n",
    "    {\n",
    "        \"links\": [\n",
    "            {type: \"about page\": \"url\": \"https://example.com/about\"},\n",
    "            {type: \"careers page\", \"url\": \"https://example.com/careers\"}\n",
    "       ]\n",
    "    }\n",
    "\"\"\""
   ]
  },
  {
   "cell_type": "code",
   "execution_count": 10,
   "id": "0569e985",
   "metadata": {},
   "outputs": [],
   "source": [
    "def get_links_user_prompt(website):\n",
    "    user_prompt = f\"\"\"Here is the list of links on the website {website.url}\\n\n",
    "    please decide which of the links would be most relevant to include in a brochure about company.\n",
    "    respond with the full https:// url of the link.\n",
    "    do not include terms of Service, Privacy Policy, or any other irrelevant links.\\n\\n\n",
    "    \"\"\"\n",
    "    user_prompt += \"\\n\".join(website.links)\n",
    "    return user_prompt"
   ]
  },
  {
   "cell_type": "code",
   "execution_count": 11,
   "id": "b2215f5e",
   "metadata": {},
   "outputs": [
    {
     "name": "stdout",
     "output_type": "stream",
     "text": [
      "Here is the list of links on the website https://www.oreilly.com/pub/au/7412\n",
      "\n",
      "    please decide which of the links would be most relevant to include in a brochure about company.\n",
      "    respond with the full https:// url of the link.\n",
      "    do not include terms of Service, Privacy Policy, or any other irrelevant links.\n",
      "\n",
      "\n",
      "    #maincontent\n",
      "https://www.oreilly.com/online-learning/teams.html\n",
      "https://www.oreilly.com/online-learning/government.html\n",
      "https://www.oreilly.com/online-learning/academic.html\n",
      "https://www.oreilly.com/online-learning/individuals.html\n",
      "https://www.oreilly.com/content-marketing-solutions.html\n",
      "https://www.oreilly.com\n",
      "https://www.oreilly.com/online-learning/teams.html\n",
      "https://www.oreilly.com/online-learning/government.html\n",
      "https://www.oreilly.com/online-learning/academic.html\n",
      "https://www.oreilly.com/online-learning/individuals.html\n",
      "https://www.oreilly.com/content-marketing-solutions.html\n",
      "/search/skills\n",
      "https://www.oreilly.com/online-learning/features.html\n",
      "https://www.oreilly.com/online-learning/features.html\n",
      "https://www.oreilly.com/online-learning/courses.html\n",
      "https://www.oreilly.com/online-learning/feature-certification.html\n",
      "https://www.oreilly.com/online-learning/intro-interactive-learning.html\n",
      "https://www.oreilly.com/online-learning/live-events.html\n",
      "https://www.oreilly.com/online-learning/feature-answers.html\n",
      "https://www.oreilly.com/online-learning/insights-dashboard.html\n",
      "https://www.oreilly.com/radar/\n",
      "https://www.oreilly.com/online-learning/pricing.html\n",
      "https://www.oreilly.com/member/login/\n",
      "https://www.oreilly.com/online-learning/try-now.html\n",
      "https://www.oreilly.com/member/login/\n",
      "https://www.oreilly.com/search/?query=author%3AJose%20Portilla&extended_publisher_data=true&highlight=true&include_assessments=false&include_case_studies=true&include_courses=true&include_playlists=true&include_collections=true&include_notebooks=true&is_academic_institution_account=false&source=user&formats=video&sort=publication_date&facet_json=true&page=0&include_facets=false&include_scenarios=true&include_sandboxes=true&json_facets=true\n",
      "https://learning.oreilly.com/videos/analyzing-data-using/9781491986844/\n",
      "https://learning.oreilly.com/videos/analyzing-data-using/9781491986844/\n",
      "https://www.linkedin.com/in/jmportilla\n",
      "http://pieriandata.com\n",
      "https://www.linkedin.com/company/oreilly-media\n",
      "https://www.youtube.com/user/OreillyMedia\n",
      "/about/\n",
      "/work-with-us.html\n",
      "/careers/\n",
      "/press/\n",
      "/press/media-coverage.html\n",
      "/partner/signup.csp\n",
      "/affiliates/\n",
      "/online-learning/rfp.html\n",
      "/diversity/\n",
      "/content-marketing-solutions.html\n",
      "/online-learning/support/\n",
      "/about/contact.html\n",
      "/emails/newsletters/\n",
      "/privacy.html\n",
      "/about/oreilly-approach-to-generative-ai.html\n",
      "https://www.oreilly.com/online-learning/anz.html\n",
      "https://www.oreilly.co.jp/index.shtml\n",
      "https://itunes.apple.com/us/app/safari-to-go/id881697395\n",
      "https://play.google.com/store/apps/details?id=com.safariflow.queue\n",
      "https://channelstore.roku.com/details/c9d25fa651f0ad84e484b0dfd4b20172:856a240ad268961983e91ae52c1e1e5c/oreilly\n",
      "https://www.amazon.com/OReilly-Media-Inc/dp/B087YYHL5C/ref=sr_1_2?dchild=1&keywords=oreilly&qid=1604964116&s=mobile-apps&sr=1-2\n",
      "https://www.oreilly.com\n",
      "https://www.oreilly.com/privacy.html?donotsell=show\n",
      "/terms/\n",
      "/privacy.html\n",
      "/about/editorial_independence.html\n",
      "/modern-slavery-act-transparency-statement.html\n"
     ]
    }
   ],
   "source": [
    "print(get_links_user_prompt(jp))"
   ]
  },
  {
   "cell_type": "code",
   "execution_count": 12,
   "id": "052e9c97",
   "metadata": {},
   "outputs": [],
   "source": [
    "def get_links(url):\n",
    "    website = Website(url)\n",
    "    completion = openai.chat.completions.create(\n",
    "        model=MODEL,\n",
    "        messages=[\n",
    "            {\"role\": \"system\", \"content\": link_system_prompt},\n",
    "            {\"role\": \"user\", \"content\": get_links_user_prompt(website)}\n",
    "        ],\n",
    "        response_format={\"type\": \"json_object\"}\n",
    "    )\n",
    "    result = completion.choices[0].message.content\n",
    "    return json.loads(result)"
   ]
  },
  {
   "cell_type": "code",
   "execution_count": 13,
   "id": "6b624806",
   "metadata": {},
   "outputs": [
    {
     "data": {
      "text/plain": [
       "{'links': [{'type': 'about page', 'url': 'https://www.oreilly.com/about/'},\n",
       "  {'type': 'careers page', 'url': 'https://www.oreilly.com/careers/'},\n",
       "  {'type': 'contact page',\n",
       "   'url': 'https://www.oreilly.com/about/contact.html'},\n",
       "  {'type': 'press page', 'url': 'https://www.oreilly.com/press/'},\n",
       "  {'type': 'diversity page', 'url': 'https://www.oreilly.com/diversity/'}]}"
      ]
     },
     "execution_count": 13,
     "metadata": {},
     "output_type": "execute_result"
    }
   ],
   "source": [
    "get_links('https://www.oreilly.com/pub/au/7412')"
   ]
  },
  {
   "cell_type": "code",
   "execution_count": 24,
   "id": "820917a7",
   "metadata": {},
   "outputs": [],
   "source": [
    "def get_all_details(url):\n",
    "    result = \"Landing page:\\n\"\n",
    "    result += Website(url).get_contents()\n",
    "    links = get_links(url)\n",
    "    print(\"Found links:\", links)\n",
    "    \n",
    "    for link in links['links']:\n",
    "        result += f\"\\n\\n{link['type']}\\n\"\n",
    "        result += Website(link['url']).get_contents()\n",
    "    return result"
   ]
  },
  {
   "cell_type": "code",
   "execution_count": 25,
   "id": "8e681fe7",
   "metadata": {},
   "outputs": [
    {
     "name": "stdout",
     "output_type": "stream",
     "text": [
      "Found links: {'links': [{'type': 'about page', 'url': 'https://www.oreilly.com/about/'}, {'type': 'careers page', 'url': 'https://www.oreilly.com/careers/'}, {'type': 'company page', 'url': 'https://www.oreilly.com/about/oreilly-approach-to-generative-ai.html'}]}\n"
     ]
    },
    {
     "data": {
      "text/plain": [
       "\"Landing page:\\nWebpage Title: \\nJose Portilla\\n            Webpage Contents: \\nSkip to Main Content\\nFor Enterprise\\nFor Government\\nFor Higher Ed\\nFor Individuals\\nFor Sponsorship\\nFor Enterprise\\nFor Government\\nFor Higher Ed\\nFor Individuals\\nFor Sponsorship\\nExplore Skills\\nFeatures\\nAll Features\\nCourses\\nCertifications\\nInteractive Learning\\nLive Events\\nAnswers\\nInsights Reporting\\nRadar Blog\\nClose\\nSearch\\nPlans\\nSign In\\nTry Now\\nO’Reilly Platform\\nJose Portilla\\nLive online courses, books, and videos on O’Reilly\\nVideos\\nSee all\\nAnalyzing Data Using Spark 2.0 DataFrames With Python\\nBio\\nJose Marcial Portilla has a BS and MS in Mechanical Engineering from Santa Clara University and years of experience as a professional instructor and trainer for Data Science and programming. He has publications and patents in various fields such as microfluidics, materials science, and data science technologies. Over the course of his career he has developed a skill set in analyzing data and he hopes to use his experience in teaching and data science to help other people learn the power of programming the ability to analyze data, as well as present the data in clear and beautiful visualizations. Currently he works as the Head of Data Science for Pierian Data Inc. and provides in-person data science and python programming training courses to employees working at top companies, including General Electric, Cigna, The New York Times, Credit Suisse, and many more. Feel free to contact him on LinkedIn for more information on in-person training sessions or group training sessions in Las Vegas, NV.\\nhttp://pieriandata.com\\nFollow us\\nlinkedin logo\\nyoutube logo\\nAbout O’Reilly\\nTeach/Write/Train\\nCareers\\nO’Reilly News\\nMedia Coverage\\nCommunity Partners\\nAffiliate Program\\nSubmit an RFP\\nDiversity\\nContent Sponsorship\\nSupport\\nContact Us\\nNewsletters\\nPrivacy Policy\\nAI Policy\\nInternational\\nAustralia & New Zealand\\nJapan\\nDownload the O’Reilly App\\nTake O’Reilly with you and learn anywhere, anytime on your phone and tablet.\\nWatch on Your Big Screen\\nView all O’Reilly videos, virtual conferences, and live events on your home TV.\\nDo not sell or share my personal information\\n.\\n© 2025, O’Reilly Media, Inc.  All trademarks and registered trademarks appearing on oreilly.com are the property of their respective owners.\\nTerms of Service\\n•\\nPrivacy Policy\\n•\\nEditorial Independence\\n•\\nModern Slavery Act Statement\\n\\n\\n\\nabout page\\nWebpage Title: \\nAbout - O'Reilly Media\\n            Webpage Contents: \\nSkip to Main Content\\nFor Enterprise\\nFor Government\\nFor Higher Ed\\nFor Individuals\\nFor Sponsorship\\nFor Enterprise\\nFor Government\\nFor Higher Ed\\nFor Individuals\\nFor Sponsorship\\nExplore Skills\\nFeatures\\nAll Features\\nCourses\\nCertifications\\nInteractive Learning\\nLive Events\\nAnswers\\nInsights Reporting\\nRadar Blog\\nClose\\nSearch\\nPlans\\nSign In\\nTry Now\\nO’Reilly Platform\\nAbout us\\nInspiring the future for more than\\n45 years\\nO’Reilly’s mission is to change the world by sharing the knowledge of innovators. For over 45 years, we’ve inspired companies and individuals to do new things—and do things better—by providing them with the skills and understanding that are necessary\\nfor success.\\nAt the heart of our business is a unique network of experts and innovators who share their knowledge through us. The O’Reilly learning platform offers exclusive live training, interactive learning, a certification experience, books, videos, and more, making it easier for our customers to develop the expertise they need to get ahead. And our books have been heralded for decades as the definitive place to learn about the technologies that are shaping the future. Everything we do is to help professionals from a variety of fields learn best practices and discover emerging trends that will shape the future of the\\ntech industry.\\nOur customers are hungry to build the innovations that propel the world forward. And we help you do\\njust that.\\nLearn more about our history\\nTim O’Reilly\\nTim O’Reilly has a history of convening conversations that reshape the computer industry. If you’ve heard the term “open source software” or “Web 2.0,” he’s had a hand in framing each of those big ideas. He’s the founder, CEO, and chairman of O’Reilly.\\nSee Tim’s interviews & articles\\nPress room\\nLearning\\nO’Reilly Offers Free Expert-Led Event on Maximizing Generative AI for Work and Creativity\\n1/21/25\\nRead more O’Reilly news\\nEditorial independence\\nO’Reilly is committed to ensuring that everything produced under our name is congruent with our company values of openness, honesty, integrity, and neutrality. These values drive our approach to building information products.\\nLearn about our approach\\n.\\nResources\\nFor information about O’Reilly authors, partnerships, and more,\\nsee our list of resources\\n.\\nFollow us\\nlinkedin logo\\nyoutube logo\\nAbout O’Reilly\\nTeach/Write/Train\\nCareers\\nO’Reilly News\\nMedia Coverage\\nCommunity Partners\\nAffiliate Program\\nSubmit an RFP\\nDiversity\\nContent Sponsorship\\nSupport\\nContact Us\\nNewsletters\\nPrivacy Policy\\nAI Policy\\nInternational\\nAustralia & New Zealand\\nJapan\\nDownload the O’Reilly App\\nTake O’Reilly with you and learn anywhere, anytime on your phone and tablet.\\nWatch on Your Big Screen\\nView all O’Reilly videos, virtual conferences, and live events on your home TV.\\nDo not sell or share my personal information\\n.\\n© 2025, O’Reilly Media, Inc.  All trademarks and registered trademarks appearing on oreilly.com are the property of their respective owners.\\nTerms of Service\\n•\\nPrivacy Policy\\n•\\nEditorial Independence\\n•\\nModern Slavery Act Statement\\n\\n\\n\\ncareers page\\nWebpage Title: \\nCareers: Join Our Team - O'Reilly Media\\n            Webpage Contents: \\nSkip to Main Content\\nFor Enterprise\\nFor Government\\nFor Higher Ed\\nFor Individuals\\nFor Sponsorship\\nFor Enterprise\\nFor Government\\nFor Higher Ed\\nFor Individuals\\nFor Sponsorship\\nExplore Skills\\nFeatures\\nAll Features\\nCourses\\nCertifications\\nInteractive Learning\\nLive Events\\nAnswers\\nInsights Reporting\\nRadar Blog\\nClose\\nSearch\\nPlans\\nSign In\\nTry Now\\nO’Reilly Platform\\nCareers\\nJoin our team\\nSee open positions\\nWhy O’Reilly? Don’t just take our word for it.\\nA lot of companies get all chest-thumpy about what makes them a better place to work. We’ve had the good fortune of being recognized by industry leaders, so we can let our awards do the talking for us.\\nCome work on stuff that matters\\nIn this first video our president, Laura, and founder, Tim, give you their POV on why O’Reilly is such a fulfilling place to work. But after that, our team members get candid about it, which is important to hear. Because our people\\nare\\nO’Reilly.\\nWork with us wherever you are\\nWe went fully remote in 2020 after proving we could increase profitability without being packed into cubicles—and keep our teams safer. Now, no commute means more time with loved ones. If a team member wants to work in Costa Rica for a month, they do. And we get the best talent independent of their proximity to an office. The numbers show it’s working.\\n45% increase\\nH1 2022 new enterprise bookings year-over-year\\n36% growth\\n2019–2021\\nEveryone says they’re inclusive. We win awards for it.\\nOkay, maybe we’re a little chest-thumpy about this. But we truly believe that a variety of perspectives helps drive real innovation. The Brandon Hall Group recognized our efforts in 2022 by awarding us for excellence in the “Best Diversity, Equity & Inclusion Strategy” category.\\n2022\\nO’Reilly experts who identify as members of an underrepresented community\\n2021\\nnew hires from underrepresented communities\\nAnnual memberships\\nawarded to help members of underrepresented groups break into tech\\nWomen O’Reilly employees\\n(US tech industry average is 28.8%.*)\\n* Top Companies for Women Technologists,  AnitaB.org, September 2020.\\nFind your community. Grow together.\\nAt O’Reilly, we’re committed to inclusivity and connection. Our employee resource groups (ERGs) offer a space to share your experiences, learn from others, and embrace the diversity that makes us better. Whether it’s Pride@O’Reilly, Women@O’Reilly, or InternationalConnect@O’Reilly, you’ll find a group that fosters belonging. If you don’t see your identity or passion represented, create your own ERG—we’ll support you in making it happen.\\nJoin us\\n.\\nA global organization. A more worldly POV.\\nWhile we’ve grown in North America, we’ve really grown internationally. We have team members in 11 countries around the world, with more being added all the time. And we love the global perspective they provide across the organization.\\nThere are benefits to our benefits\\nOur teams work hard to make O’Reilly a great place to work—so we work hard to do our best by them.\\nComprehensive medical, with free vision and dental\\n401(k) with a nice match and a Roth IRA option\\nPerformance-based rewards program\\nGenerous vacation and flexible sick time\\nWork anywhere internationally for a month\\nRole-based stock options\\nFlexible remote work environment\\nCompetitive compensation packages\\nO’Reilly learning platform subscription\\nThis is us\\nOr a few of the several hundred of us anyway. We’re just a group of real people working to make a difference in the lives and careers of tech and business practitioners around the world. And we’re proud that we get to work on stuff that matters.\\nOne of the most rewarding parts of the job is hearing from customers how your product has made their lives better, and I enjoy collaborating with colleagues across the organization to make that happen.\\n—\\nMargaret Shelman\\n,\\nSenior Product Manager\\nCare to join us? We’re hiring.\\nWe have great benefits. Extended holiday time off. A monthly stipend to help cover home office costs. And a family-first culture that believes if you’re working while your child is on stage in a tutu, you’re in the wrong place.\\nSee open positions\\nFollow us\\nlinkedin logo\\nyoutube logo\\nAbout O’Reilly\\nTeach/Write/Train\\nCareers\\nO’Reilly News\\nMedia Coverage\\nCommunity Partners\\nAffiliate Program\\nSubmit an RFP\\nDiversity\\nContent Sponsorship\\nSupport\\nContact Us\\nNewsletters\\nPrivacy Policy\\nAI Policy\\nInternational\\nAustralia & New Zealand\\nJapan\\nDownload the O’Reilly App\\nTake O’Reilly with you and learn anywhere, anytime on your phone and tablet.\\nWatch on Your Big Screen\\nView all O’Reilly videos, virtual conferences, and live events on your home TV.\\nDo not sell or share my personal information\\n.\\n© 2025, O’Reilly Media, Inc.  All trademarks and registered trademarks appearing on oreilly.com are the property of their respective owners.\\nTerms of Service\\n•\\nPrivacy Policy\\n•\\nEditorial Independence\\n•\\nModern Slavery Act Statement\\n\\n\\n\\ncompany page\\nWebpage Title: \\nFrom Laura Baldwin: The O'Reilly approach to generative AI - O'Reilly Media\\n            Webpage Contents: \\nSkip to Main Content\\nFor Enterprise\\nFor Government\\nFor Higher Ed\\nFor Individuals\\nFor Sponsorship\\nFor Enterprise\\nFor Government\\nFor Higher Ed\\nFor Individuals\\nFor Sponsorship\\nExplore Skills\\nFeatures\\nAll Features\\nCourses\\nCertifications\\nInteractive Learning\\nLive Events\\nAnswers\\nInsights Reporting\\nRadar Blog\\nClose\\nSearch\\nPlans\\nSign In\\nTry Now\\nO’Reilly Platform\\nFrom O’Reilly president\\nLaura Baldwin\\nThe O’Reilly approach\\nto generative AI\\nLeveraging our expert content in\\na fair and ethical manner\\nMore than 50% of O’Reilly members currently use our platform to learn in the flow of work—quickly getting the answers they need to solve problems and move on. By putting the right tools at their disposal, we believe that percentage will grow. Exponentially.\\nOne of those tools is generative AI, and over the last year we’ve seen how its capabilities have taken the world by storm. But we’ve also seen how large language models (LLMs) trained on publicly available information or content leveraged without permission can be fraught with problems—including copyright infringement. Certainly, human intervention is required to ensure reliability and accuracy, and prevent falsities from making their way into products\\nand services.\\nBut when used ethically, GenAI tools can augment jobs, solve large-scale problems, and create tangible economic opportunities. So, to ensure the content we distribute maintains the level of trust our readers and members have come to expect, O’Reilly has created a\\nGenAI policy for our experts\\nto follow when leveraging GenAI in the creation of their own works. In short, we expect authors and content providers to track their use of GenAI and share this info with their editors as they develop their content, just as they might with third-party content for permissions. Doing so provides the necessary human intervention to ensure reliability\\nand accuracy.\\nWe’ve also taken great strides to protect our experts’ copyrights—and give them credit and remuneration for their work—as we move into the next generation of\\nlearning tools.\\nDeveloping a GenAI tool our members\\ncan trust\\nIn our quest to develop a reliable GenAI that enables learning in the flow of work, we’re training an LLM whose answers can be depended on because it’s being trained solely on trusted content—including the widely respected O’Reilly animal books and titles from nearly 200 trusted publishing partners including Pearson, Harvard Business Review, and Packt. We’re also training it with our expert-led live and on-demand courses, Superstream virtual tech conferences, audiobooks, and more. Anything we use to train our GenAI tool is content we\\nstand by.\\nThat content could be used to create sets of assessment questions at the end of a chapter to prove that a member has absorbed what they need to learn. Or summarize a four-hour conference so they learn faster. Or translate our original works into multiple languages so our content can be\\noffered globally.\\nAnd it could deliver unique answers to tough tech questions instantly, pulling from a range of reputable sources to ensure accuracy and quality—so teams can learn in the flow of work\\neven better.\\nDoing right by\\nour experts\\nAt O’Reilly, our experts typically own the copyright to the books and content we publish and distribute. In fact, we were one of the first publishers to license authors’ works for publication—leaving ownership of their original ideas in their hands. We do retain the right to build derivative works from their content, but we believe our experts have the right to be aware of\\nthose plans.\\nThat doesn’t change with the advent of GenAI on our learning platform; we will continue to respect our creators’ copyrights. Which is why we’re developing a GenAI tool that can track the sources of the answers it provides—and give credit and remuneration to authors and experts when it leverages their royalty\\nbearing content.\\nWe believe in innovation. And doing the\\nright thing.\\nAll GenAI companies need to adopt ethical standards and figure out a way to pay content creators for their works used to train LLMs. By stepping forward and showing it’s possible, we hope to inspire more organizations to do right by both their users and their\\ncontent creators.\\nBest,\\nLaura Baldwin\\nPresident, O’Reilly\\nFollow us\\nlinkedin logo\\nyoutube logo\\nAbout O’Reilly\\nTeach/Write/Train\\nCareers\\nO’Reilly News\\nMedia Coverage\\nCommunity Partners\\nAffiliate Program\\nSubmit an RFP\\nDiversity\\nContent Sponsorship\\nSupport\\nContact Us\\nNewsletters\\nPrivacy Policy\\nAI Policy\\nInternational\\nAustralia & New Zealand\\nJapan\\nDownload the O’Reilly App\\nTake O’Reilly with you and learn anywhere, anytime on your phone and tablet.\\nWatch on Your Big Screen\\nView all O’Reilly videos, virtual conferences, and live events on your home TV.\\nDo not sell or share my personal information\\n.\\n© 2025, O’Reilly Media, Inc.  All trademarks and registered trademarks appearing on oreilly.com are the property of their respective owners.\\nTerms of Service\\n•\\nPrivacy Policy\\n•\\nEditorial Independence\\n•\\nModern Slavery Act Statement\\n\\n\""
      ]
     },
     "execution_count": 25,
     "metadata": {},
     "output_type": "execute_result"
    }
   ],
   "source": [
    "get_all_details('https://www.oreilly.com/pub/au/7412')"
   ]
  },
  {
   "cell_type": "code",
   "execution_count": 26,
   "id": "88b4712a",
   "metadata": {},
   "outputs": [],
   "source": [
    "system_prompt = \"You are an assistant that analyzes the contents of several relevant pages from a company website \\\n",
    "and creates a short brochure about the company for prospective customers, investors and recruits. Respond in markdown.\\\n",
    "Include details of company culture, customers and careers/jobs if you have the information.\""
   ]
  },
  {
   "cell_type": "code",
   "execution_count": 27,
   "id": "c91dc6fe",
   "metadata": {},
   "outputs": [],
   "source": [
    "def get_brochure_user_prompt(company_name, url):\n",
    "    user_prompt = f\"You are looking at a company called: {company_name}\\n\"\n",
    "    user_prompt += f\"Here are the contents of its landing page and other relevant pages; use this information to build a short brochure of the company in markdown.\\n\"\n",
    "    user_prompt += get_all_details(url)\n",
    "    user_prompt = user_prompt[:5_000] # Truncate if more than 5,000 characters\n",
    "    return user_prompt"
   ]
  },
  {
   "cell_type": "code",
   "execution_count": 28,
   "id": "dce14e3d",
   "metadata": {},
   "outputs": [
    {
     "name": "stdout",
     "output_type": "stream",
     "text": [
      "Found links: {'links': [{'type': 'about page', 'url': 'https://huggingface.co/huggingface'}, {'type': 'careers page', 'url': 'https://apply.workable.com/huggingface/'}, {'type': 'enterprise page', 'url': 'https://huggingface.co/enterprise'}, {'type': 'pricing page', 'url': 'https://huggingface.co/pricing'}, {'type': 'blog page', 'url': 'https://huggingface.co/blog'}, {'type': 'discussion page', 'url': 'https://discuss.huggingface.co'}, {'type': 'LinkedIn page', 'url': 'https://www.linkedin.com/company/huggingface/'}]}\n"
     ]
    },
    {
     "data": {
      "text/plain": [
       "'You are looking at a company called: HuggingFace\\nHere are the contents of its landing page and other relevant pages; use this information to build a short brochure of the company in markdown.\\nLanding page:\\nWebpage Title: \\nHugging Face – The AI community building the future.\\n            Webpage Contents: \\nHugging Face\\nModels\\nDatasets\\nSpaces\\nPosts\\nDocs\\nEnterprise\\nPricing\\nLog In\\nSign Up\\nThe AI community building the future.\\nThe platform where the machine learning community collaborates on models, datasets, and applications.\\nExplore AI Apps\\nor\\nBrowse 1M+ models\\nTrending on\\nthis week\\nModels\\nnari-labs/Dia-1.6B\\nUpdated\\n2 days ago\\n•\\n80.3k\\n•\\n1.47k\\nQwen/Qwen3-235B-A22B\\nUpdated\\nabout 4 hours ago\\n•\\n367\\nsand-ai/MAGI-1\\nUpdated\\n2 days ago\\n•\\n489\\nostris/Flex.2-preview\\nUpdated\\n4 days ago\\n•\\n4.82k\\n•\\n277\\nmicrosoft/bitnet-b1.58-2B-4T\\nUpdated\\nabout 21 hours ago\\n•\\n35.9k\\n•\\n866\\nBrowse 1M+ models\\nSpaces\\nRunning\\non\\nZero\\n910\\n910\\nDia 1.6B\\n👯\\nGenerate realistic dialogue from a script, using Dia!\\nRunning\\n5.52k\\n5.52k\\nDeepSite\\n🐳\\nGenerate any application with DeepSeek\\nRunning\\n209\\n209\\nQwen3 Demo\\n📊\\nGenerate responses to user queries using conversation history\\nRunning\\non\\nZero\\n166\\n166\\nStep1X Edit\\n💻\\nEdit an image based on the given instruction.\\nRunning\\non\\nZero\\n154\\n154\\nDescribe Anything\\n⚡\\nDescribe parts of images using text prompts\\nBrowse 400k+ applications\\nDatasets\\nnvidia/OpenMathReasoning\\nUpdated\\n5 days ago\\n•\\n10.9k\\n•\\n132\\nOpenGVLab/InternVL-Data\\nUpdated\\nabout 3 hours ago\\n•\\n3.33k\\n•\\n97\\nAnthropic/values-in-the-wild\\nUpdated\\nabout 19 hours ago\\n•\\n394\\n•\\n115\\nnvidia/OpenCodeReasoning\\nUpdated\\n14 days ago\\n•\\n13.9k\\n•\\n313\\nfka/awesome-chatgpt-prompts\\nUpdated\\nJan 6\\n•\\n12.3k\\n•\\n7.74k\\nBrowse 250k+ datasets\\nThe Home of Machine Learning\\nCreate, discover and collaborate on ML better.\\nThe collaboration platform\\nHost and collaborate on unlimited public models, datasets and applications.\\nMove faster\\nWith the HF Open source stack.\\nExplore all modalities\\nText, image, video, audio or even 3D.\\nBuild your portfolio\\nShare your work with the world and build your ML profile.\\nSign Up\\nAccelerate your ML\\nWe provide paid Compute and Enterprise solutions.\\nCompute\\nDeploy on optimized\\nInference Endpoints\\nor update your\\nSpaces applications\\nto a GPU in a few clicks.\\nView pricing\\nStarting at $0.60/hour for GPU\\nEnterprise\\nGive your team the most advanced platform to build AI with enterprise-grade security, access controls and\\n\\t\\t\\tdedicated support.\\nGetting started\\nStarting at $20/user/month\\nSingle Sign-On\\nRegions\\nPriority Support\\nAudit Logs\\nResource Groups\\nPrivate Datasets Viewer\\nMore than 50,000 organizations are using Hugging Face\\nAi2\\nEnterprise\\nnon-profit\\n•\\n749 models\\n•\\n3.14k followers\\nAI at Meta\\nEnterprise\\ncompany\\n•\\n2.12k models\\n•\\n5.74k followers\\nAmazon\\ncompany\\n•\\n20 models\\n•\\n3.07k followers\\nGoogle\\ncompany\\n•\\n990 models\\n•\\n12.5k followers\\nIntel\\ncompany\\n•\\n219 models\\n•\\n2.48k followers\\nMicrosoft\\ncompany\\n•\\n372 models\\n•\\n11.8k followers\\nGrammarly\\nEnterprise\\ncompany\\n•\\n10 models\\n•\\n155 followers\\nWriter\\nEnterprise\\ncompany\\n•\\n21 models\\n•\\n264 followers\\nOur Open Source\\nWe are building the foundation of ML tooling with the community.\\nTransformers\\n143,656\\nState-of-the-art ML for PyTorch, TensorFlow, JAX\\nDiffusers\\n28,797\\nState-of-the-art Diffusion models in PyTorch\\nSafetensors\\n3,249\\nSafe way to store/distribute neural network weights\\nHub Python Library\\n2,555\\nPython client to interact with the Hugging Face Hub\\nTokenizers\\n9,635\\nFast tokenizers optimized for research & production\\nTRL\\n13,502\\nTrain transformers LMs with reinforcement learning\\nTransformers.js\\n13,514\\nState-of-the-art ML running directly in your browser\\nsmolagents\\n17,727\\nSmol library to build great agents in Python\\nPEFT\\n18,245\\nParameter-efficient finetuning for large language models\\nDatasets\\n20,039\\nAccess & share datasets for any ML tasks\\nText Generation Inference\\n10,065\\nServe language models with TGI optimized toolkit\\nAccelerate\\n8,665\\nTrain PyTorch models with multi-GPU, TPU, mixed precision\\nSystem theme\\nWebsite\\nModels\\nDatasets\\nSpaces\\nTasks\\nInference Endpoints\\nHuggingChat\\nCompany\\nAbout\\nBrand assets\\nTerms of service\\nPrivacy\\nJobs\\nPress\\nResources\\nLearn\\nDocumentation\\nBlog\\nForum\\nService Status\\nSocial\\nGitHub\\nTwitter\\nLinkedIn\\nDiscord\\n\\n\\n\\nabout page\\nWebpage Title: \\nhuggingface (Hugging Face)\\n            Webpage Contents: \\nHugging Face\\nModels\\nDatasets\\nSpaces\\nPosts\\nDocs\\nEnterprise\\nPricing\\nLog In\\nSign Up\\nHugging Face\\nEnterprise\\ncompany\\nVerified\\nhttps://huggingface.co\\nhuggingface\\nhuggingface\\nActivity Feed\\nFollow\\n34,490\\nAI & ML interests\\nThe AI community building the future.\\nRecent Activity\\nlysandre\\nupdated\\na dataset\\nabout 1 hour ago\\nhuggingface/transformers-metadata\\nabidlabs\\nupdated\\na dataset\\nabout 5 hours ago\\nhuggingface/documentation-images\\nvictor\\nnew\\nactivity\\nabout 15 hours ago\\nhuggingface/InferenceSupport:\\nQwen/Qwen3-32B\\nView all activity\\nArticles\\nYay! Organizations can now publish blog Articles\\nJan 20\\n•\\n41\\nTeam members\\n212\\n+178\\n+165\\n+144\\n+134\\n+114\\nOrganization Card\\nCommunity\\nAbout org cards\\n👋 Hi!\\nWe are on a mission to democratize\\ngood\\nmachine learning, on'"
      ]
     },
     "execution_count": 28,
     "metadata": {},
     "output_type": "execute_result"
    }
   ],
   "source": [
    "get_brochure_user_prompt(\"HuggingFace\", \"https://huggingface.co\")"
   ]
  },
  {
   "cell_type": "code",
   "execution_count": 29,
   "id": "811fe2e9",
   "metadata": {},
   "outputs": [],
   "source": [
    "def create_brochure(company_name, url):\n",
    "    response = openai.chat.completions.create(\n",
    "        model=MODEL,\n",
    "        messages=[\n",
    "            {\"role\": \"system\", \"content\": system_prompt},\n",
    "            {\"role\": \"user\", \"content\": get_brochure_user_prompt(company_name, url)}\n",
    "          ],\n",
    "    )\n",
    "    result = response.choices[0].message.content\n",
    "    display(Markdown(result))"
   ]
  },
  {
   "cell_type": "code",
   "execution_count": 30,
   "id": "e06f787b",
   "metadata": {},
   "outputs": [
    {
     "name": "stdout",
     "output_type": "stream",
     "text": [
      "Found links: {'links': [{'type': 'about page', 'url': 'https://huggingface.co/huggingface'}, {'type': 'careers page', 'url': 'https://apply.workable.com/huggingface/'}, {'type': 'enterprise page', 'url': 'https://huggingface.co/enterprise'}, {'type': 'pricing page', 'url': 'https://huggingface.co/pricing'}, {'type': 'blog page', 'url': 'https://huggingface.co/blog'}, {'type': 'community page', 'url': 'https://discuss.huggingface.co'}, {'type': 'social media page', 'url': 'https://www.linkedin.com/company/huggingface/'}]}\n"
     ]
    },
    {
     "data": {
      "text/markdown": [
       "# Hugging Face Brochure\n",
       "\n",
       "## Overview\n",
       "Welcome to **Hugging Face**, the vibrant AI community dedicated to building the future of machine learning. Our platform fosters collaboration among its users, providing a space to explore and develop models, datasets, and innovative applications. With over **1 million models** and **250k+ datasets**, we empower developers and researchers to accelerate their machine learning projects.\n",
       "\n",
       "## Company Culture\n",
       "At Hugging Face, we believe in the power of community. Our culture is defined by collaboration, innovation, and openness. We are committed to democratizing machine learning, making it accessible and useful for everyone. We value contributions from all members of our community and encourage sharing knowledge and resources.\n",
       "\n",
       "### Our Mission\n",
       "- **Democratize Machine Learning:** We strive to make state-of-the-art machine learning resources accessible to everyone.\n",
       "- **Foster Collaboration:** By providing a collaborative platform, we enable users to share their work and build collective knowledge.\n",
       "- **Innovate Responsibly:** We are committed to ethical AI development and creating tools that positively impact the world.\n",
       "\n",
       "## Products & Services\n",
       "- **Models & Datasets:** Browse and utilize a vast library of machine learning models and datasets for your projects.\n",
       "- **Enterprise Solutions:** With enterprise-grade security and dedicated support, we offer a tailored platform for organizations to build advanced AI solutions.\n",
       "- **Compute Services:** Deploy and optimize applications with our flexible compute resources, starting at $0.60/hour for GPU access.\n",
       "  \n",
       "## Customers\n",
       "Over **50,000 organizations** trust Hugging Face, including:\n",
       "- **AI2** (Non-profit)\n",
       "- **Meta**\n",
       "- **Amazon**\n",
       "- **Google**\n",
       "- **Microsoft**\n",
       "- **Grammarly**\n",
       "\n",
       "These organizations leverage our platform to access state-of-the-art AI tools, contributing to a collective growth in the field of machine learning.\n",
       "\n",
       "## Careers at Hugging Face\n",
       "Join our mission to advance machine learning and AI! We are continuously on the lookout for talented individuals who share our values. Working at Hugging Face means being part of an enthusiastic and innovative team, where you can contribute to meaningful projects that make a real difference.\n",
       "\n",
       "### Why Work with Us?\n",
       "- Inspiring mission and values centered around community and democratization.\n",
       "- Opportunities for professional growth and skill enhancement.\n",
       "- Supportive environment that encourages experimentation and creativity.\n",
       "\n",
       "## Get Involved\n",
       "Whether you're a developer, researcher, or an enthusiast, there are many ways to engage with the Hugging Face community:\n",
       "- **Explore Models & Apps:** Discover and utilize thousands of models and applications.\n",
       "- **Contribute to Open Source:** Join our open-source initiatives and help improve ML tools and libraries.\n",
       "- **Join our Community:** Follow us on [Twitter](https://twitter.com/huggingface), [LinkedIn](https://www.linkedin.com/company/huggingface), and join our discussions on [Discord](https://discord.com/invite/huggingface).\n",
       "\n",
       "Together, we can shape the future of machine learning. Welcome to Hugging Face!"
      ],
      "text/plain": [
       "<IPython.core.display.Markdown object>"
      ]
     },
     "metadata": {},
     "output_type": "display_data"
    }
   ],
   "source": [
    "create_brochure(\"HuggingFace\", \"https://huggingface.co\")"
   ]
  },
  {
   "cell_type": "code",
   "execution_count": 31,
   "id": "9ce2fd04",
   "metadata": {},
   "outputs": [],
   "source": [
    "def stream_brochure(company_name, url):\n",
    "    stream = openai.chat.completions.create(\n",
    "        model=MODEL,\n",
    "        messages=[\n",
    "            {\"role\": \"system\", \"content\": system_prompt},\n",
    "            {\"role\": \"user\", \"content\": get_brochure_user_prompt(company_name, url)}\n",
    "          ],\n",
    "        stream=True\n",
    "    )\n",
    "    \n",
    "    response = \"\"\n",
    "    display_handle = display(Markdown(\"\"), display_id=True)\n",
    "    for chunk in stream:\n",
    "        response += chunk.choices[0].delta.content or ''\n",
    "        response = response.replace(\"```\",\"\").replace(\"markdown\", \"\")\n",
    "        update_display(Markdown(response), display_id=display_handle.display_id)"
   ]
  },
  {
   "cell_type": "code",
   "execution_count": 32,
   "id": "21778b9f",
   "metadata": {},
   "outputs": [
    {
     "name": "stdout",
     "output_type": "stream",
     "text": [
      "Found links: {'links': [{'type': 'about page', 'url': 'https://huggingface.co/huggingface'}, {'type': 'careers page', 'url': 'https://apply.workable.com/huggingface/'}, {'type': 'enterprise page', 'url': 'https://huggingface.co/enterprise'}, {'type': 'pricing page', 'url': 'https://huggingface.co/pricing'}, {'type': 'blog page', 'url': 'https://huggingface.co/blog'}, {'type': 'discussion page', 'url': 'https://discuss.huggingface.co'}, {'type': 'linkedin page', 'url': 'https://www.linkedin.com/company/huggingface/'}]}\n"
     ]
    },
    {
     "data": {
      "text/markdown": [
       "# Hugging Face Brochure\n",
       "\n",
       "---\n",
       "\n",
       "**Welcome to Hugging Face**  \n",
       "*The AI community building the future.*\n",
       "\n",
       "At Hugging Face, we empower the machine learning community to create, discover, and collaborate on innovative models, datasets, and applications. With our user-friendly platform, members can easily access over a million AI models and applications designed to accelerate machine learning workflows.\n",
       "\n",
       "---\n",
       "\n",
       "### **What We Offer**\n",
       "\n",
       "- **Models:** Access and collaborate on 1M+ machine learning models covering various tasks, from text and image processing to audio and 3D.\n",
       "- **Datasets:** Explore and utilize 250k+ diverse datasets catered to various ML tasks, enabling enhanced model training and validation.\n",
       "- **Spaces:** Create and share AI applications seamlessly, enhancing your portfolio and gaining visibility within the community through our hosted applications.\n",
       "- **Compute Solutions:** Deploy optimized inference endpoints or increase your app's performance with GPU support, starting at just $0.60/hour.\n",
       "- **Enterprise Solutions:** Harness enterprise-grade security, dedicated support, and customized solutions for teams starting from $20/user/month.\n",
       "\n",
       "---\n",
       "\n",
       "### **Company Culture**\n",
       "\n",
       "At Hugging Face, we embody a collaborative and inclusive culture that emphasizes open-source innovation. We believe in democratizing AI and making it accessible to everyone. Our passionate community comprises over 50,000 organizations, including notable names like Google, Amazon, Microsoft, and Grammarly, fostering an environment ripe for creativity and learning.\n",
       "\n",
       "---\n",
       "\n",
       "### **Our Customer Base**\n",
       "\n",
       "Hugging Face serves a wide range of clients from **startups** to **Fortune 500 companies**. Our platform facilitates collaboration among:\n",
       "- Researchers and students developing cutting-edge AI models.\n",
       "- Enterprises seeking robust machine learning solutions and support.\n",
       "- Developers looking to enhance their applications through advanced ML capabilities.\n",
       "\n",
       "---\n",
       "\n",
       "### **Careers at Hugging Face**\n",
       "\n",
       "Join us in our mission to redefine machine learning! We are constantly on the lookout for talented individuals who share our passion for technology and innovation. We offer a dynamic work environment enriched with opportunities for professional growth and collaboration.\n",
       "\n",
       "#### **Why Work with Us?**\n",
       "- **Impactful Projects:** Contribute to significant advancements in AI and machine learning.\n",
       "- **Collaborative Team:** Work alongside some of the leading experts in the field.\n",
       "- **Diverse Opportunities:** Explore a range of roles from engineering and data science to product management and community engagement.\n",
       "\n",
       "Explore our current job openings and be a part of the AI revolution!\n",
       "\n",
       "---\n",
       "\n",
       "### **Get Involved!**\n",
       "\n",
       "Join our community today and start exploring what Hugging Face has to offer. Together, let’s build the future of artificial intelligence!\n",
       "\n",
       "- **Visit:** [Hugging Face](https://huggingface.co)\n",
       "- **Connect:** Follow us on GitHub, Twitter, LinkedIn, and Discord for updates and collaboration opportunities.\n",
       "\n",
       "---\n",
       "\n",
       "**Hugging Face: Where AI community meets innovation.**"
      ],
      "text/plain": [
       "<IPython.core.display.Markdown object>"
      ]
     },
     "metadata": {},
     "output_type": "display_data"
    }
   ],
   "source": [
    "stream_brochure(\"HuggingFace\", \"https://huggingface.co\")"
   ]
  },
  {
   "cell_type": "code",
   "execution_count": null,
   "id": "deeb1ec3",
   "metadata": {},
   "outputs": [],
   "source": []
  }
 ],
 "metadata": {
  "kernelspec": {
   "display_name": "venv",
   "language": "python",
   "name": "python3"
  },
  "language_info": {
   "codemirror_mode": {
    "name": "ipython",
    "version": 3
   },
   "file_extension": ".py",
   "mimetype": "text/x-python",
   "name": "python",
   "nbconvert_exporter": "python",
   "pygments_lexer": "ipython3",
   "version": "3.12.7"
  }
 },
 "nbformat": 4,
 "nbformat_minor": 5
}
